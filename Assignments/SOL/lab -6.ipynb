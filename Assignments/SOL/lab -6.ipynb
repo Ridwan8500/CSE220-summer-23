{
  "nbformat": 4,
  "nbformat_minor": 0,
  "metadata": {
    "colab": {
      "provenance": []
    },
    "kernelspec": {
      "name": "python3",
      "display_name": "Python 3"
    },
    "language_info": {
      "name": "python"
    }
  },
  "cells": [
    {
      "cell_type": "markdown",
      "source": [
        "# 1"
      ],
      "metadata": {
        "id": "8pfKByg916ej"
      }
    },
    {
      "cell_type": "code",
      "source": [
        "import numpy as np"
      ],
      "metadata": {
        "id": "i2Q4D_dQ3RmL"
      },
      "execution_count": null,
      "outputs": []
    },
    {
      "cell_type": "code",
      "execution_count": null,
      "metadata": {
        "id": "mRuGO7mby78E"
      },
      "outputs": [],
      "source": [
        "def factorial(n):\n",
        "  if  n == 0 or n == 1:\n",
        "    return 1\n",
        "  else:\n",
        "    return n * factorial(n-1)\n",
        "\n"
      ]
    },
    {
      "cell_type": "code",
      "source": [
        "def fib(m):\n",
        "  if m == 0:\n",
        "    return 0\n",
        "  elif m == 1:\n",
        "    return 1\n",
        "  else:\n",
        "   return fib(m-1) + fib(m-2)\n"
      ],
      "metadata": {
        "id": "EWPPd4A2zNRK"
      },
      "execution_count": null,
      "outputs": []
    },
    {
      "cell_type": "code",
      "source": [
        "def arr(n,i):\n",
        "  if i == len(n)-1:\n",
        "    return n[len(n)-1]\n",
        "  else:\n",
        "    print(n[i])\n",
        "    return arr(n,i+1)\n",
        "\n",
        "arr([1,2,3,4],0)\n"
      ],
      "metadata": {
        "colab": {
          "base_uri": "https://localhost:8080/"
        },
        "id": "_HH5v1Eq3Pvb",
        "outputId": "13b19cba-5d83-48a9-acab-bbacf435228d"
      },
      "execution_count": null,
      "outputs": [
        {
          "output_type": "stream",
          "name": "stdout",
          "text": [
            "1\n",
            "2\n",
            "3\n"
          ]
        },
        {
          "output_type": "execute_result",
          "data": {
            "text/plain": [
              "4"
            ]
          },
          "metadata": {},
          "execution_count": 13
        }
      ]
    },
    {
      "cell_type": "code",
      "source": [
        "def exp(n,p):\n",
        "  if p == 0:\n",
        "    return 1\n",
        "  else:\n",
        "    return n * exp(n,p-1)"
      ],
      "metadata": {
        "id": "k9V8MU5U0VdB"
      },
      "execution_count": null,
      "outputs": []
    },
    {
      "cell_type": "code",
      "source": [
        "print(factorial(6))\n",
        "print(fib(6))\n",
        "print(exp(3,3))"
      ],
      "metadata": {
        "colab": {
          "base_uri": "https://localhost:8080/"
        },
        "id": "fr_LRU0f0RwJ",
        "outputId": "79db8584-0f90-4a0c-ae01-985356128afe"
      },
      "execution_count": null,
      "outputs": [
        {
          "output_type": "stream",
          "name": "stdout",
          "text": [
            "720\n",
            "8\n",
            "27\n"
          ]
        }
      ]
    },
    {
      "cell_type": "markdown",
      "source": [
        "# 2"
      ],
      "metadata": {
        "id": "Tmx_LzOC15YD"
      }
    },
    {
      "cell_type": "code",
      "source": [
        "def db(n):\n",
        "    if n == 0:\n",
        "        return '0'\n",
        "    elif n == 1:\n",
        "        return '1'\n",
        "    else:\n",
        "        return db(n // 2) + str(n % 2)\n",
        "\n",
        "print(db(5))"
      ],
      "metadata": {
        "id": "lZVuL_NX1_db",
        "colab": {
          "base_uri": "https://localhost:8080/"
        },
        "outputId": "2fbdfe48-f914-41e0-b81d-d6184398285a"
      },
      "execution_count": null,
      "outputs": [
        {
          "output_type": "stream",
          "name": "stdout",
          "text": [
            "101\n"
          ]
        }
      ]
    },
    {
      "cell_type": "code",
      "source": [
        "class Node:\n",
        "  def __init__(self,elem,next = None):\n",
        "    self.elem = elem\n",
        "    self.next = next\n",
        "def createList(arr):\n",
        "    head = Node(arr[0])\n",
        "    tail = head\n",
        "    for i in range(1,len(arr)):\n",
        "        newNode = Node(arr[i])\n",
        "        tail.next = newNode\n",
        "        tail = newNode\n",
        "    return head\n",
        "\n"
      ],
      "metadata": {
        "id": "MZB28-GQ9I1T"
      },
      "execution_count": null,
      "outputs": []
    },
    {
      "cell_type": "code",
      "source": [
        "def addd(head):\n",
        "  if head == None:\n",
        "    return 0\n",
        "  else:\n",
        "    return head.elem + addd(head.next)\n",
        "\n",
        "x = createList(np.array([1,2,3,4]))\n",
        "print(addd(x))"
      ],
      "metadata": {
        "colab": {
          "base_uri": "https://localhost:8080/"
        },
        "id": "YigKx4x--nCc",
        "outputId": "66200985-a47b-4d5b-f089-599269976fc8"
      },
      "execution_count": null,
      "outputs": [
        {
          "output_type": "stream",
          "name": "stdout",
          "text": [
            "10\n"
          ]
        }
      ]
    },
    {
      "cell_type": "code",
      "source": [
        "def rev(head):\n",
        "  if head.next == None:\n",
        "    return head.elem\n",
        "  else:\n",
        "\n",
        "    x = rev(head.next)\n",
        "    print(x)\n",
        "    return head.elem\n",
        "\n",
        "\n",
        "x = createList(np.array([1,2,3,4]))\n",
        "print(rev(x))"
      ],
      "metadata": {
        "colab": {
          "base_uri": "https://localhost:8080/"
        },
        "id": "9CwIUTLlAjlv",
        "outputId": "8c318b5a-2c51-4125-cdb6-a4372f70f6ea"
      },
      "execution_count": null,
      "outputs": [
        {
          "output_type": "stream",
          "name": "stdout",
          "text": [
            "4\n",
            "3\n",
            "2\n",
            "1\n"
          ]
        }
      ]
    },
    {
      "cell_type": "markdown",
      "source": [
        "# 3\n"
      ],
      "metadata": {
        "id": "n49vxZvvxiWT"
      }
    },
    {
      "cell_type": "code",
      "source": [
        "def hocBuilder(height):\n",
        "    if height == 0:\n",
        "        return 0\n",
        "    elif height == 1:\n",
        "        return 8\n",
        "    else:\n",
        "        return 5 + hocBuilder(height - 1)\n",
        "\n",
        "hocBuilder(5)"
      ],
      "metadata": {
        "colab": {
          "base_uri": "https://localhost:8080/"
        },
        "id": "FUE3V9f_jpkc",
        "outputId": "f14ec448-205e-43f4-f929-ffb8d9193fb1"
      },
      "execution_count": null,
      "outputs": [
        {
          "output_type": "execute_result",
          "data": {
            "text/plain": [
              "28"
            ]
          },
          "metadata": {},
          "execution_count": 14
        }
      ]
    },
    {
      "cell_type": "markdown",
      "source": [
        "# 4"
      ],
      "metadata": {
        "id": "bGevxIsGESaM"
      }
    },
    {
      "cell_type": "code",
      "source": [
        "def print_n(n):\n",
        "  if n == 0:\n",
        "    return\n",
        "  else:\n",
        "    print_n(n - 1)\n",
        "    print(n, end = '')\n",
        "\n",
        "def l_triangle(n):\n",
        "    if n == 1:\n",
        "        print(n)\n",
        "        return\n",
        "    else:\n",
        "        l_triangle(n - 1)\n",
        "        print_n(n)\n",
        "        print()\n",
        "\n",
        "l_triangle(5)"
      ],
      "metadata": {
        "colab": {
          "base_uri": "https://localhost:8080/"
        },
        "id": "kTM49QKljzu4",
        "outputId": "86d11c00-7311-40cc-bc61-d21141934e44"
      },
      "execution_count": null,
      "outputs": [
        {
          "output_type": "stream",
          "name": "stdout",
          "text": [
            "1\n",
            "12\n",
            "123\n",
            "1234\n",
            "12345\n"
          ]
        }
      ]
    },
    {
      "cell_type": "code",
      "source": [
        "def space(n):\n",
        "  if n == 0:\n",
        "    return\n",
        "  else:\n",
        "    space(n - 1)\n",
        "    print(' ', end = '')\n",
        "\n",
        "def print_n(n):\n",
        "  if n == 0:\n",
        "    return\n",
        "  else:\n",
        "    print_n(n - 1)\n",
        "    print(n, end = '')\n",
        "\n",
        "def r_triangle(m, n):\n",
        "    if n == 1:\n",
        "        space(m - n)\n",
        "        print(n)\n",
        "        return\n",
        "    else:\n",
        "        r_triangle(m, n - 1)\n",
        "        space(m - n)\n",
        "        print_n(n)\n",
        "        print()\n",
        "\n",
        "r_triangle(5,5)"
      ],
      "metadata": {
        "id": "-3frC1OXj3Ck",
        "outputId": "db2fb16f-0a71-435f-93f2-56c1f5e65897",
        "colab": {
          "base_uri": "https://localhost:8080/"
        }
      },
      "execution_count": null,
      "outputs": [
        {
          "output_type": "stream",
          "name": "stdout",
          "text": [
            "    1\n",
            "   12\n",
            "  123\n",
            " 1234\n",
            "12345\n"
          ]
        }
      ]
    },
    {
      "cell_type": "markdown",
      "source": [
        "#5"
      ],
      "metadata": {
        "id": "JGEsH3S7gqZz"
      }
    },
    {
      "cell_type": "code",
      "source": [],
      "metadata": {
        "id": "hDF9sDRbgqDf"
      },
      "execution_count": null,
      "outputs": []
    },
    {
      "cell_type": "markdown",
      "source": [
        "# Must finish\n"
      ],
      "metadata": {
        "id": "ESPPAo5vxld0"
      }
    },
    {
      "cell_type": "code",
      "source": [
        "def flattenList(given_list, output_list):\n",
        "\n",
        "  if len(given_list) == 0:\n",
        "    return output_list\n",
        "\n",
        "  elif isinstance(given_list[0],list):\n",
        "    flattenList(given_list[0],output_list)\n",
        "    return flattenList(given_list[1:],output_list)\n",
        "\n",
        "  else:\n",
        "    output_list.append(given_list[0])\n",
        "    return flattenList(given_list[1:],output_list)\n",
        "\n",
        "given_list = [1, [2, [3, [4], 5], 6], 7, 8, [9, [[10, 11], 12], 13], 14, [15, [16, [17]]]]\n",
        "oul = flattenList(given_list, [])\n",
        "print(oul)\n"
      ],
      "metadata": {
        "id": "lAzudphf09OC",
        "colab": {
          "base_uri": "https://localhost:8080/"
        },
        "outputId": "44922185-6f52-4535-8481-7b52d142e7bf"
      },
      "execution_count": null,
      "outputs": [
        {
          "output_type": "stream",
          "name": "stdout",
          "text": [
            "[1, 2, 3, 4, 5, 6, 7, 8, 9, 10, 11, 12, 13, 14, 15, 16, 17]\n"
          ]
        }
      ]
    },
    {
      "cell_type": "code",
      "source": [],
      "metadata": {
        "id": "_RMCfcQ5jboP"
      },
      "execution_count": null,
      "outputs": []
    }
  ]
}